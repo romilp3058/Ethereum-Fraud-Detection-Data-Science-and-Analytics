{
  "cells": [
    {
      "cell_type": "code",
      "execution_count": 47,
      "id": "41906af3-c640-410f-8287-b2c0e0d8dfeb",
      "metadata": {
        "id": "41906af3-c640-410f-8287-b2c0e0d8dfeb"
      },
      "outputs": [],
      "source": [
        "import pandas as pd\n",
        "from sklearn.feature_selection import mutual_info_classif, SelectKBest\n",
        "from sklearn.model_selection import train_test_split\n",
        "import seaborn as sns\n",
        "import matplotlib.pyplot as plt\n",
        "import plotly.express as px"
      ]
    },
    {
      "cell_type": "code",
      "execution_count": 48,
      "id": "3a9f1b23-d665-48d7-8d6d-c18e80644e39",
      "metadata": {
        "id": "3a9f1b23-d665-48d7-8d6d-c18e80644e39"
      },
      "outputs": [],
      "source": [
        "# Load the dataset as an Excel file\n",
        "df = pd.read_csv('/Assignment-dataset.csv')"
      ]
    },
    {
      "cell_type": "markdown",
      "id": "f6324fea-b5c5-473a-bc1e-2cfe1262e6c9",
      "metadata": {
        "id": "f6324fea-b5c5-473a-bc1e-2cfe1262e6c9",
        "jp-MarkdownHeadingCollapsed": true
      },
      "source": [
        "# Preliminary data-analysis and Data Preparation"
      ]
    },
    {
      "cell_type": "code",
      "execution_count": 49,
      "id": "6810a4e2-3be9-488e-8aff-f57c0be58829",
      "metadata": {
        "colab": {
          "base_uri": "https://localhost:8080/",
          "height": 270
        },
        "id": "6810a4e2-3be9-488e-8aff-f57c0be58829",
        "outputId": "36aadfb3-4a94-40ae-f6f9-f275812c14a3"
      },
      "outputs": [
        {
          "data": {
            "application/vnd.google.colaboratory.intrinsic+json": {
              "type": "dataframe",
              "variable_name": "df"
            },
            "text/html": [
              "\n",
              "  <div id=\"df-3c0f7b9c-c1b4-4e67-a1a3-5c2c36324b0e\" class=\"colab-df-container\">\n",
              "    <div>\n",
              "<style scoped>\n",
              "    .dataframe tbody tr th:only-of-type {\n",
              "        vertical-align: middle;\n",
              "    }\n",
              "\n",
              "    .dataframe tbody tr th {\n",
              "        vertical-align: top;\n",
              "    }\n",
              "\n",
              "    .dataframe thead th {\n",
              "        text-align: right;\n",
              "    }\n",
              "</style>\n",
              "<table border=\"1\" class=\"dataframe\">\n",
              "  <thead>\n",
              "    <tr style=\"text-align: right;\">\n",
              "      <th></th>\n",
              "      <th>Class</th>\n",
              "      <th>a1</th>\n",
              "      <th>a2</th>\n",
              "      <th>a3</th>\n",
              "      <th>a4</th>\n",
              "      <th>a5</th>\n",
              "      <th>a6</th>\n",
              "      <th>a7</th>\n",
              "      <th>a8</th>\n",
              "      <th>a9</th>\n",
              "      <th>...</th>\n",
              "      <th>a38</th>\n",
              "      <th>a39</th>\n",
              "      <th>a40</th>\n",
              "      <th>a41</th>\n",
              "      <th>a42</th>\n",
              "      <th>a43</th>\n",
              "      <th>a44</th>\n",
              "      <th>a45</th>\n",
              "      <th>a46</th>\n",
              "      <th>a47</th>\n",
              "    </tr>\n",
              "  </thead>\n",
              "  <tbody>\n",
              "    <tr>\n",
              "      <th>0</th>\n",
              "      <td>False</td>\n",
              "      <td>844.26</td>\n",
              "      <td>1093.71</td>\n",
              "      <td>704785.63</td>\n",
              "      <td>721</td>\n",
              "      <td>89</td>\n",
              "      <td>0</td>\n",
              "      <td>40</td>\n",
              "      <td>118</td>\n",
              "      <td>0.000000</td>\n",
              "      <td>...</td>\n",
              "      <td>0.000000</td>\n",
              "      <td>1.683100e+07</td>\n",
              "      <td>271779.920000</td>\n",
              "      <td>0.0</td>\n",
              "      <td>0.0</td>\n",
              "      <td>0.0</td>\n",
              "      <td>39.0</td>\n",
              "      <td>57.0</td>\n",
              "      <td>Cofoundit</td>\n",
              "      <td>Numeraire</td>\n",
              "    </tr>\n",
              "    <tr>\n",
              "      <th>1</th>\n",
              "      <td>False</td>\n",
              "      <td>12709.07</td>\n",
              "      <td>2958.44</td>\n",
              "      <td>1218216.73</td>\n",
              "      <td>94</td>\n",
              "      <td>8</td>\n",
              "      <td>0</td>\n",
              "      <td>5</td>\n",
              "      <td>14</td>\n",
              "      <td>0.000000</td>\n",
              "      <td>...</td>\n",
              "      <td>2.260809</td>\n",
              "      <td>2.260809e+00</td>\n",
              "      <td>2.260809</td>\n",
              "      <td>0.0</td>\n",
              "      <td>0.0</td>\n",
              "      <td>0.0</td>\n",
              "      <td>1.0</td>\n",
              "      <td>7.0</td>\n",
              "      <td>Livepeer Token</td>\n",
              "      <td>Livepeer Token</td>\n",
              "    </tr>\n",
              "    <tr>\n",
              "      <th>2</th>\n",
              "      <td>False</td>\n",
              "      <td>246194.54</td>\n",
              "      <td>2434.02</td>\n",
              "      <td>516729.30</td>\n",
              "      <td>2</td>\n",
              "      <td>10</td>\n",
              "      <td>0</td>\n",
              "      <td>10</td>\n",
              "      <td>2</td>\n",
              "      <td>0.113119</td>\n",
              "      <td>...</td>\n",
              "      <td>0.000000</td>\n",
              "      <td>0.000000e+00</td>\n",
              "      <td>0.000000</td>\n",
              "      <td>0.0</td>\n",
              "      <td>0.0</td>\n",
              "      <td>0.0</td>\n",
              "      <td>0.0</td>\n",
              "      <td>8.0</td>\n",
              "      <td>NaN</td>\n",
              "      <td>XENON</td>\n",
              "    </tr>\n",
              "    <tr>\n",
              "      <th>3</th>\n",
              "      <td>False</td>\n",
              "      <td>10219.60</td>\n",
              "      <td>15785.09</td>\n",
              "      <td>397555.90</td>\n",
              "      <td>25</td>\n",
              "      <td>9</td>\n",
              "      <td>0</td>\n",
              "      <td>7</td>\n",
              "      <td>13</td>\n",
              "      <td>0.000000</td>\n",
              "      <td>...</td>\n",
              "      <td>100.000000</td>\n",
              "      <td>9.029231e+03</td>\n",
              "      <td>3804.076893</td>\n",
              "      <td>0.0</td>\n",
              "      <td>0.0</td>\n",
              "      <td>0.0</td>\n",
              "      <td>1.0</td>\n",
              "      <td>11.0</td>\n",
              "      <td>Raiden</td>\n",
              "      <td>XENON</td>\n",
              "    </tr>\n",
              "    <tr>\n",
              "      <th>4</th>\n",
              "      <td>False</td>\n",
              "      <td>36.61</td>\n",
              "      <td>10707.77</td>\n",
              "      <td>382472.42</td>\n",
              "      <td>4598</td>\n",
              "      <td>20</td>\n",
              "      <td>1</td>\n",
              "      <td>7</td>\n",
              "      <td>19</td>\n",
              "      <td>0.000000</td>\n",
              "      <td>...</td>\n",
              "      <td>0.000000</td>\n",
              "      <td>4.500000e+04</td>\n",
              "      <td>13726.659220</td>\n",
              "      <td>0.0</td>\n",
              "      <td>0.0</td>\n",
              "      <td>0.0</td>\n",
              "      <td>6.0</td>\n",
              "      <td>27.0</td>\n",
              "      <td>StatusNetwork</td>\n",
              "      <td>EOS</td>\n",
              "    </tr>\n",
              "  </tbody>\n",
              "</table>\n",
              "<p>5 rows × 48 columns</p>\n",
              "</div>\n",
              "    <div class=\"colab-df-buttons\">\n",
              "\n",
              "  <div class=\"colab-df-container\">\n",
              "    <button class=\"colab-df-convert\" onclick=\"convertToInteractive('df-3c0f7b9c-c1b4-4e67-a1a3-5c2c36324b0e')\"\n",
              "            title=\"Convert this dataframe to an interactive table.\"\n",
              "            style=\"display:none;\">\n",
              "\n",
              "  <svg xmlns=\"http://www.w3.org/2000/svg\" height=\"24px\" viewBox=\"0 -960 960 960\">\n",
              "    <path d=\"M120-120v-720h720v720H120Zm60-500h600v-160H180v160Zm220 220h160v-160H400v160Zm0 220h160v-160H400v160ZM180-400h160v-160H180v160Zm440 0h160v-160H620v160ZM180-180h160v-160H180v160Zm440 0h160v-160H620v160Z\"/>\n",
              "  </svg>\n",
              "    </button>\n",
              "\n",
              "  <style>\n",
              "    .colab-df-container {\n",
              "      display:flex;\n",
              "      gap: 12px;\n",
              "    }\n",
              "\n",
              "    .colab-df-convert {\n",
              "      background-color: #E8F0FE;\n",
              "      border: none;\n",
              "      border-radius: 50%;\n",
              "      cursor: pointer;\n",
              "      display: none;\n",
              "      fill: #1967D2;\n",
              "      height: 32px;\n",
              "      padding: 0 0 0 0;\n",
              "      width: 32px;\n",
              "    }\n",
              "\n",
              "    .colab-df-convert:hover {\n",
              "      background-color: #E2EBFA;\n",
              "      box-shadow: 0px 1px 2px rgba(60, 64, 67, 0.3), 0px 1px 3px 1px rgba(60, 64, 67, 0.15);\n",
              "      fill: #174EA6;\n",
              "    }\n",
              "\n",
              "    .colab-df-buttons div {\n",
              "      margin-bottom: 4px;\n",
              "    }\n",
              "\n",
              "    [theme=dark] .colab-df-convert {\n",
              "      background-color: #3B4455;\n",
              "      fill: #D2E3FC;\n",
              "    }\n",
              "\n",
              "    [theme=dark] .colab-df-convert:hover {\n",
              "      background-color: #434B5C;\n",
              "      box-shadow: 0px 1px 3px 1px rgba(0, 0, 0, 0.15);\n",
              "      filter: drop-shadow(0px 1px 2px rgba(0, 0, 0, 0.3));\n",
              "      fill: #FFFFFF;\n",
              "    }\n",
              "  </style>\n",
              "\n",
              "    <script>\n",
              "      const buttonEl =\n",
              "        document.querySelector('#df-3c0f7b9c-c1b4-4e67-a1a3-5c2c36324b0e button.colab-df-convert');\n",
              "      buttonEl.style.display =\n",
              "        google.colab.kernel.accessAllowed ? 'block' : 'none';\n",
              "\n",
              "      async function convertToInteractive(key) {\n",
              "        const element = document.querySelector('#df-3c0f7b9c-c1b4-4e67-a1a3-5c2c36324b0e');\n",
              "        const dataTable =\n",
              "          await google.colab.kernel.invokeFunction('convertToInteractive',\n",
              "                                                    [key], {});\n",
              "        if (!dataTable) return;\n",
              "\n",
              "        const docLinkHtml = 'Like what you see? Visit the ' +\n",
              "          '<a target=\"_blank\" href=https://colab.research.google.com/notebooks/data_table.ipynb>data table notebook</a>'\n",
              "          + ' to learn more about interactive tables.';\n",
              "        element.innerHTML = '';\n",
              "        dataTable['output_type'] = 'display_data';\n",
              "        await google.colab.output.renderOutput(dataTable, element);\n",
              "        const docLink = document.createElement('div');\n",
              "        docLink.innerHTML = docLinkHtml;\n",
              "        element.appendChild(docLink);\n",
              "      }\n",
              "    </script>\n",
              "  </div>\n",
              "\n",
              "\n",
              "<div id=\"df-de454bad-5fa8-4a04-bba8-42d80dc6a5c8\">\n",
              "  <button class=\"colab-df-quickchart\" onclick=\"quickchart('df-de454bad-5fa8-4a04-bba8-42d80dc6a5c8')\"\n",
              "            title=\"Suggest charts\"\n",
              "            style=\"display:none;\">\n",
              "\n",
              "<svg xmlns=\"http://www.w3.org/2000/svg\" height=\"24px\"viewBox=\"0 0 24 24\"\n",
              "     width=\"24px\">\n",
              "    <g>\n",
              "        <path d=\"M19 3H5c-1.1 0-2 .9-2 2v14c0 1.1.9 2 2 2h14c1.1 0 2-.9 2-2V5c0-1.1-.9-2-2-2zM9 17H7v-7h2v7zm4 0h-2V7h2v10zm4 0h-2v-4h2v4z\"/>\n",
              "    </g>\n",
              "</svg>\n",
              "  </button>\n",
              "\n",
              "<style>\n",
              "  .colab-df-quickchart {\n",
              "      --bg-color: #E8F0FE;\n",
              "      --fill-color: #1967D2;\n",
              "      --hover-bg-color: #E2EBFA;\n",
              "      --hover-fill-color: #174EA6;\n",
              "      --disabled-fill-color: #AAA;\n",
              "      --disabled-bg-color: #DDD;\n",
              "  }\n",
              "\n",
              "  [theme=dark] .colab-df-quickchart {\n",
              "      --bg-color: #3B4455;\n",
              "      --fill-color: #D2E3FC;\n",
              "      --hover-bg-color: #434B5C;\n",
              "      --hover-fill-color: #FFFFFF;\n",
              "      --disabled-bg-color: #3B4455;\n",
              "      --disabled-fill-color: #666;\n",
              "  }\n",
              "\n",
              "  .colab-df-quickchart {\n",
              "    background-color: var(--bg-color);\n",
              "    border: none;\n",
              "    border-radius: 50%;\n",
              "    cursor: pointer;\n",
              "    display: none;\n",
              "    fill: var(--fill-color);\n",
              "    height: 32px;\n",
              "    padding: 0;\n",
              "    width: 32px;\n",
              "  }\n",
              "\n",
              "  .colab-df-quickchart:hover {\n",
              "    background-color: var(--hover-bg-color);\n",
              "    box-shadow: 0 1px 2px rgba(60, 64, 67, 0.3), 0 1px 3px 1px rgba(60, 64, 67, 0.15);\n",
              "    fill: var(--button-hover-fill-color);\n",
              "  }\n",
              "\n",
              "  .colab-df-quickchart-complete:disabled,\n",
              "  .colab-df-quickchart-complete:disabled:hover {\n",
              "    background-color: var(--disabled-bg-color);\n",
              "    fill: var(--disabled-fill-color);\n",
              "    box-shadow: none;\n",
              "  }\n",
              "\n",
              "  .colab-df-spinner {\n",
              "    border: 2px solid var(--fill-color);\n",
              "    border-color: transparent;\n",
              "    border-bottom-color: var(--fill-color);\n",
              "    animation:\n",
              "      spin 1s steps(1) infinite;\n",
              "  }\n",
              "\n",
              "  @keyframes spin {\n",
              "    0% {\n",
              "      border-color: transparent;\n",
              "      border-bottom-color: var(--fill-color);\n",
              "      border-left-color: var(--fill-color);\n",
              "    }\n",
              "    20% {\n",
              "      border-color: transparent;\n",
              "      border-left-color: var(--fill-color);\n",
              "      border-top-color: var(--fill-color);\n",
              "    }\n",
              "    30% {\n",
              "      border-color: transparent;\n",
              "      border-left-color: var(--fill-color);\n",
              "      border-top-color: var(--fill-color);\n",
              "      border-right-color: var(--fill-color);\n",
              "    }\n",
              "    40% {\n",
              "      border-color: transparent;\n",
              "      border-right-color: var(--fill-color);\n",
              "      border-top-color: var(--fill-color);\n",
              "    }\n",
              "    60% {\n",
              "      border-color: transparent;\n",
              "      border-right-color: var(--fill-color);\n",
              "    }\n",
              "    80% {\n",
              "      border-color: transparent;\n",
              "      border-right-color: var(--fill-color);\n",
              "      border-bottom-color: var(--fill-color);\n",
              "    }\n",
              "    90% {\n",
              "      border-color: transparent;\n",
              "      border-bottom-color: var(--fill-color);\n",
              "    }\n",
              "  }\n",
              "</style>\n",
              "\n",
              "  <script>\n",
              "    async function quickchart(key) {\n",
              "      const quickchartButtonEl =\n",
              "        document.querySelector('#' + key + ' button');\n",
              "      quickchartButtonEl.disabled = true;  // To prevent multiple clicks.\n",
              "      quickchartButtonEl.classList.add('colab-df-spinner');\n",
              "      try {\n",
              "        const charts = await google.colab.kernel.invokeFunction(\n",
              "            'suggestCharts', [key], {});\n",
              "      } catch (error) {\n",
              "        console.error('Error during call to suggestCharts:', error);\n",
              "      }\n",
              "      quickchartButtonEl.classList.remove('colab-df-spinner');\n",
              "      quickchartButtonEl.classList.add('colab-df-quickchart-complete');\n",
              "    }\n",
              "    (() => {\n",
              "      let quickchartButtonEl =\n",
              "        document.querySelector('#df-de454bad-5fa8-4a04-bba8-42d80dc6a5c8 button');\n",
              "      quickchartButtonEl.style.display =\n",
              "        google.colab.kernel.accessAllowed ? 'block' : 'none';\n",
              "    })();\n",
              "  </script>\n",
              "</div>\n",
              "\n",
              "    </div>\n",
              "  </div>\n"
            ],
            "text/plain": [
              "   Class         a1        a2          a3    a4  a5  a6  a7   a8        a9  \\\n",
              "0  False     844.26   1093.71   704785.63   721  89   0  40  118  0.000000   \n",
              "1  False   12709.07   2958.44  1218216.73    94   8   0   5   14  0.000000   \n",
              "2  False  246194.54   2434.02   516729.30     2  10   0  10    2  0.113119   \n",
              "3  False   10219.60  15785.09   397555.90    25   9   0   7   13  0.000000   \n",
              "4  False      36.61  10707.77   382472.42  4598  20   1   7   19  0.000000   \n",
              "\n",
              "   ...         a38           a39            a40  a41  a42  a43   a44   a45  \\\n",
              "0  ...    0.000000  1.683100e+07  271779.920000  0.0  0.0  0.0  39.0  57.0   \n",
              "1  ...    2.260809  2.260809e+00       2.260809  0.0  0.0  0.0   1.0   7.0   \n",
              "2  ...    0.000000  0.000000e+00       0.000000  0.0  0.0  0.0   0.0   8.0   \n",
              "3  ...  100.000000  9.029231e+03    3804.076893  0.0  0.0  0.0   1.0  11.0   \n",
              "4  ...    0.000000  4.500000e+04   13726.659220  0.0  0.0  0.0   6.0  27.0   \n",
              "\n",
              "              a46             a47  \n",
              "0       Cofoundit       Numeraire  \n",
              "1  Livepeer Token  Livepeer Token  \n",
              "2             NaN           XENON  \n",
              "3          Raiden           XENON  \n",
              "4   StatusNetwork             EOS  \n",
              "\n",
              "[5 rows x 48 columns]"
            ]
          },
          "execution_count": 49,
          "metadata": {},
          "output_type": "execute_result"
        }
      ],
      "source": [
        "df.head()"
      ]
    },
    {
      "cell_type": "code",
      "execution_count": 50,
      "id": "f4d1b8f8-59cb-471f-b85e-8431f9abbd3a",
      "metadata": {
        "colab": {
          "base_uri": "https://localhost:8080/"
        },
        "id": "f4d1b8f8-59cb-471f-b85e-8431f9abbd3a",
        "outputId": "fc9cb064-902a-416e-cf5d-5167fb052c4b"
      },
      "outputs": [
        {
          "data": {
            "text/plain": [
              "(9841, 48)"
            ]
          },
          "execution_count": 50,
          "metadata": {},
          "output_type": "execute_result"
        }
      ],
      "source": [
        "df.shape"
      ]
    },
    {
      "cell_type": "code",
      "execution_count": 52,
      "id": "1a261c99-1063-49bb-8009-137a216949f1",
      "metadata": {
        "colab": {
          "base_uri": "https://localhost:8080/",
          "height": 521
        },
        "id": "1a261c99-1063-49bb-8009-137a216949f1",
        "outputId": "874611d2-0b91-4061-8f74-7fa2460b4c5a"
      },
      "outputs": [
        {
          "data": {
            "image/png": "[encoded data removed]",
            "text/plain": [
              "<Figure size 800x600 with 1 Axes>"
            ]
          },
          "metadata": {},
          "output_type": "display_data"
        }
      ],
      "source": [
        "import matplotlib.pyplot as plt\n",
        "\n",
        "# Calculate class counts\n",
        "class_counts = df['Class'].value_counts()\n",
        "\n",
        "# Plot a pie chart\n",
        "plt.figure(figsize=(8, 6))\n",
        "plt.pie(\n",
        "    class_counts.values,\n",
        "    labels=class_counts.index,\n",
        "    autopct='%1.1f%%',\n",
        "    startangle=140,\n",
        "    colors=['#1f77b4', '#ff7f0e']\n",
        ")\n",
        "plt.title('Target distribution of Class')\n",
        "plt.show()"
      ]
    },
    {
      "cell_type": "code",
      "execution_count": 53,
      "id": "43e540e1-57df-4060-8de9-357d4c32ea0e",
      "metadata": {
        "colab": {
          "base_uri": "https://localhost:8080/"
        },
        "id": "43e540e1-57df-4060-8de9-357d4c32ea0e",
        "outputId": "0d776ef8-ae4f-492c-bd0a-a3958cb66a39"
      },
      "outputs": [
        {
          "name": "stdout",
          "output_type": "stream",
          "text": [
            "       Missing Values Data Type\n",
            "Class               0      bool\n",
            "a1                  0   float64\n",
            "a2                  0   float64\n",
            "a3                  0   float64\n",
            "a4                  0     int64\n",
            "a5                  0     int64\n",
            "a6                  0     int64\n",
            "a7                  0     int64\n",
            "a8                  0     int64\n",
            "a9                  0   float64\n",
            "a10                 0   float64\n",
            "a11                 0   float64\n",
            "a12                 0   float64\n",
            "a13                 0   float64\n",
            "a14                 0   float64\n",
            "a15                 0   float64\n",
            "a16                 0   float64\n",
            "a17                 0   float64\n",
            "a18                 0     int64\n",
            "a19                 0   float64\n",
            "a20                 0   float64\n",
            "a21                 0   float64\n",
            "a22                 0   float64\n",
            "a23               829   float64\n",
            "a24               829   float64\n",
            "a25               829   float64\n",
            "a26               829   float64\n",
            "a27               829   float64\n",
            "a28               829   float64\n",
            "a29               829   float64\n",
            "a30               829   float64\n",
            "a31               829   float64\n",
            "a32               829   float64\n",
            "a33               829   float64\n",
            "a34               829   float64\n",
            "a35               829   float64\n",
            "a36               829   float64\n",
            "a37               829   float64\n",
            "a38               829   float64\n",
            "a39               829   float64\n",
            "a40               829   float64\n",
            "a41               829   float64\n",
            "a42               829   float64\n",
            "a43               829   float64\n",
            "a44               829   float64\n",
            "a45               829   float64\n",
            "a46              2697    object\n",
            "a47               871    object\n"
          ]
        }
      ],
      "source": [
        "# Check for missing values and data types\n",
        "missing_values = df.isnull().sum()\n",
        "data_types = df.dtypes\n",
        "\n",
        "# Combine into a single DataFrame\n",
        "summary = pd.DataFrame({'Missing Values': missing_values, 'Data Type': data_types})\n",
        "\n",
        "# Display the result\n",
        "print(summary)"
      ]
    },
    {
      "cell_type": "code",
      "execution_count": 54,
      "id": "078f3663-2828-4328-850c-0175410862a0",
      "metadata": {
        "id": "078f3663-2828-4328-850c-0175410862a0"
      },
      "outputs": [],
      "source": [
        "# Encode Categorical Features with data type as 'object'\n",
        "from sklearn.preprocessing import LabelEncoder\n",
        "\n",
        "label_encoders = {}\n",
        "for column in df.select_dtypes(include=['object']).columns:\n",
        "    le = LabelEncoder()\n",
        "    df[column] = le.fit_transform(df[column].astype(str))\n",
        "    label_encoders[column] = le"
      ]
    },
    {
      "cell_type": "code",
      "execution_count": 55,
      "id": "cd83e790-a5a3-435c-9f06-c2c8c22ec6e4",
      "metadata": {
        "id": "cd83e790-a5a3-435c-9f06-c2c8c22ec6e4"
      },
      "outputs": [],
      "source": [
        "# Convert boolean columns to integers\n",
        "df['Class'] = df['Class'].astype(int)"
      ]
    },
    {
      "cell_type": "code",
      "execution_count": 56,
      "id": "98607a9b-7c1a-4d51-8c54-37634cf3e930",
      "metadata": {
        "id": "98607a9b-7c1a-4d51-8c54-37634cf3e930"
      },
      "outputs": [],
      "source": [
        "# Separating label from the entire dataset\n",
        "label = df['Class']\n",
        "feat = df.drop(columns=['Class'])"
      ]
    },
    {
      "cell_type": "code",
      "execution_count": 57,
      "id": "084787b6-b534-4cfd-98de-8fa5f56a8a32",
      "metadata": {
        "id": "084787b6-b534-4cfd-98de-8fa5f56a8a32"
      },
      "outputs": [],
      "source": [
        "# Impute missing values with mean for numerical features\n",
        "from sklearn.impute import SimpleImputer\n",
        "\n",
        "imputer = SimpleImputer(strategy='mean')\n",
        "feat_final = imputer.fit_transform(feat)"
      ]
    },
    {
      "cell_type": "code",
      "execution_count": 58,
      "id": "2a148a87-727d-447d-867a-700826bdd450",
      "metadata": {
        "id": "2a148a87-727d-447d-867a-700826bdd450"
      },
      "outputs": [],
      "source": [
        "# Convert the NumPy array back to a DataFrame with original column names\n",
        "feat_final = pd.DataFrame(feat_final, columns=feat.columns)"
      ]
    },
    {
      "cell_type": "code",
      "execution_count": 59,
      "id": "a57dbfb1-5eb9-4868-ab8c-0047606f7707",
      "metadata": {
        "colab": {
          "base_uri": "https://localhost:8080/"
        },
        "id": "a57dbfb1-5eb9-4868-ab8c-0047606f7707",
        "outputId": "e5d59d2f-0b18-4913-c933-e947b8c3a13c"
      },
      "outputs": [
        {
          "name": "stdout",
          "output_type": "stream",
          "text": [
            "a1     0\n",
            "a2     0\n",
            "a3     0\n",
            "a4     0\n",
            "a5     0\n",
            "a6     0\n",
            "a7     0\n",
            "a8     0\n",
            "a9     0\n",
            "a10    0\n",
            "a11    0\n",
            "a12    0\n",
            "a13    0\n",
            "a14    0\n",
            "a15    0\n",
            "a16    0\n",
            "a17    0\n",
            "a18    0\n",
            "a19    0\n",
            "a20    0\n",
            "a21    0\n",
            "a22    0\n",
            "a23    0\n",
            "a24    0\n",
            "a25    0\n",
            "a26    0\n",
            "a27    0\n",
            "a28    0\n",
            "a29    0\n",
            "a30    0\n",
            "a31    0\n",
            "a32    0\n",
            "a33    0\n",
            "a34    0\n",
            "a35    0\n",
            "a36    0\n",
            "a37    0\n",
            "a38    0\n",
            "a39    0\n",
            "a40    0\n",
            "a41    0\n",
            "a42    0\n",
            "a43    0\n",
            "a44    0\n",
            "a45    0\n",
            "a46    0\n",
            "a47    0\n",
            "dtype: int64\n"
          ]
        }
      ],
      "source": [
        "# Check for missing values in feat\n",
        "missing_values_feat = feat_final.isnull().sum()\n",
        "\n",
        "# Display missing values for each column\n",
        "print(missing_values_feat)"
      ]
    },
    {
      "cell_type": "code",
      "execution_count": 60,
      "id": "25d15f7c-1017-4979-bdd3-31637541c561",
      "metadata": {
        "colab": {
          "base_uri": "https://localhost:8080/",
          "height": 253
        },
        "id": "25d15f7c-1017-4979-bdd3-31637541c561",
        "outputId": "375fa0c1-f0aa-48b3-b481-d38eadd12c28"
      },
      "outputs": [
        {
          "data": {
            "application/vnd.google.colaboratory.intrinsic+json": {
              "type": "dataframe",
              "variable_name": "feat_final"
            },
            "text/html": [
              "\n",
              "  <div id=\"df-8fe3f6f3-5060-49e2-9370-a79d5987b497\" class=\"colab-df-container\">\n",
              "    <div>\n",
              "<style scoped>\n",
              "    .dataframe tbody tr th:only-of-type {\n",
              "        vertical-align: middle;\n",
              "    }\n",
              "\n",
              "    .dataframe tbody tr th {\n",
              "        vertical-align: top;\n",
              "    }\n",
              "\n",
              "    .dataframe thead th {\n",
              "        text-align: right;\n",
              "    }\n",
              "</style>\n",
              "<table border=\"1\" class=\"dataframe\">\n",
              "  <thead>\n",
              "    <tr style=\"text-align: right;\">\n",
              "      <th></th>\n",
              "      <th>a1</th>\n",
              "      <th>a2</th>\n",
              "      <th>a3</th>\n",
              "      <th>a4</th>\n",
              "      <th>a5</th>\n",
              "      <th>a6</th>\n",
              "      <th>a7</th>\n",
              "      <th>a8</th>\n",
              "      <th>a9</th>\n",
              "      <th>a10</th>\n",
              "      <th>...</th>\n",
              "      <th>a38</th>\n",
              "      <th>a39</th>\n",
              "      <th>a40</th>\n",
              "      <th>a41</th>\n",
              "      <th>a42</th>\n",
              "      <th>a43</th>\n",
              "      <th>a44</th>\n",
              "      <th>a45</th>\n",
              "      <th>a46</th>\n",
              "      <th>a47</th>\n",
              "    </tr>\n",
              "  </thead>\n",
              "  <tbody>\n",
              "    <tr>\n",
              "      <th>0</th>\n",
              "      <td>844.26</td>\n",
              "      <td>1093.71</td>\n",
              "      <td>704785.63</td>\n",
              "      <td>721.0</td>\n",
              "      <td>89.0</td>\n",
              "      <td>0.0</td>\n",
              "      <td>40.0</td>\n",
              "      <td>118.0</td>\n",
              "      <td>0.000000</td>\n",
              "      <td>45.806785</td>\n",
              "      <td>...</td>\n",
              "      <td>0.000000</td>\n",
              "      <td>1.683100e+07</td>\n",
              "      <td>271779.920000</td>\n",
              "      <td>0.0</td>\n",
              "      <td>0.0</td>\n",
              "      <td>0.0</td>\n",
              "      <td>39.0</td>\n",
              "      <td>57.0</td>\n",
              "      <td>63.0</td>\n",
              "      <td>299.0</td>\n",
              "    </tr>\n",
              "    <tr>\n",
              "      <th>1</th>\n",
              "      <td>12709.07</td>\n",
              "      <td>2958.44</td>\n",
              "      <td>1218216.73</td>\n",
              "      <td>94.0</td>\n",
              "      <td>8.0</td>\n",
              "      <td>0.0</td>\n",
              "      <td>5.0</td>\n",
              "      <td>14.0</td>\n",
              "      <td>0.000000</td>\n",
              "      <td>2.613269</td>\n",
              "      <td>...</td>\n",
              "      <td>2.260809</td>\n",
              "      <td>2.260809e+00</td>\n",
              "      <td>2.260809</td>\n",
              "      <td>0.0</td>\n",
              "      <td>0.0</td>\n",
              "      <td>0.0</td>\n",
              "      <td>1.0</td>\n",
              "      <td>7.0</td>\n",
              "      <td>154.0</td>\n",
              "      <td>257.0</td>\n",
              "    </tr>\n",
              "    <tr>\n",
              "      <th>2</th>\n",
              "      <td>246194.54</td>\n",
              "      <td>2434.02</td>\n",
              "      <td>516729.30</td>\n",
              "      <td>2.0</td>\n",
              "      <td>10.0</td>\n",
              "      <td>0.0</td>\n",
              "      <td>10.0</td>\n",
              "      <td>2.0</td>\n",
              "      <td>0.113119</td>\n",
              "      <td>1.165453</td>\n",
              "      <td>...</td>\n",
              "      <td>0.000000</td>\n",
              "      <td>0.000000e+00</td>\n",
              "      <td>0.000000</td>\n",
              "      <td>0.0</td>\n",
              "      <td>0.0</td>\n",
              "      <td>0.0</td>\n",
              "      <td>0.0</td>\n",
              "      <td>8.0</td>\n",
              "      <td>301.0</td>\n",
              "      <td>435.0</td>\n",
              "    </tr>\n",
              "    <tr>\n",
              "      <th>3</th>\n",
              "      <td>10219.60</td>\n",
              "      <td>15785.09</td>\n",
              "      <td>397555.90</td>\n",
              "      <td>25.0</td>\n",
              "      <td>9.0</td>\n",
              "      <td>0.0</td>\n",
              "      <td>7.0</td>\n",
              "      <td>13.0</td>\n",
              "      <td>0.000000</td>\n",
              "      <td>500.000000</td>\n",
              "      <td>...</td>\n",
              "      <td>100.000000</td>\n",
              "      <td>9.029231e+03</td>\n",
              "      <td>3804.076893</td>\n",
              "      <td>0.0</td>\n",
              "      <td>0.0</td>\n",
              "      <td>0.0</td>\n",
              "      <td>1.0</td>\n",
              "      <td>11.0</td>\n",
              "      <td>216.0</td>\n",
              "      <td>435.0</td>\n",
              "    </tr>\n",
              "    <tr>\n",
              "      <th>4</th>\n",
              "      <td>36.61</td>\n",
              "      <td>10707.77</td>\n",
              "      <td>382472.42</td>\n",
              "      <td>4598.0</td>\n",
              "      <td>20.0</td>\n",
              "      <td>1.0</td>\n",
              "      <td>7.0</td>\n",
              "      <td>19.0</td>\n",
              "      <td>0.000000</td>\n",
              "      <td>12.802411</td>\n",
              "      <td>...</td>\n",
              "      <td>0.000000</td>\n",
              "      <td>4.500000e+04</td>\n",
              "      <td>13726.659220</td>\n",
              "      <td>0.0</td>\n",
              "      <td>0.0</td>\n",
              "      <td>0.0</td>\n",
              "      <td>6.0</td>\n",
              "      <td>27.0</td>\n",
              "      <td>237.0</td>\n",
              "      <td>154.0</td>\n",
              "    </tr>\n",
              "  </tbody>\n",
              "</table>\n",
              "<p>5 rows × 47 columns</p>\n",
              "</div>\n",
              "    <div class=\"colab-df-buttons\">\n",
              "\n",
              "  <div class=\"colab-df-container\">\n",
              "    <button class=\"colab-df-convert\" onclick=\"convertToInteractive('df-8fe3f6f3-5060-49e2-9370-a79d5987b497')\"\n",
              "            title=\"Convert this dataframe to an interactive table.\"\n",
              "            style=\"display:none;\">\n",
              "\n",
              "  <svg xmlns=\"http://www.w3.org/2000/svg\" height=\"24px\" viewBox=\"0 -960 960 960\">\n",
              "    <path d=\"M120-120v-720h720v720H120Zm60-500h600v-160H180v160Zm220 220h160v-160H400v160Zm0 220h160v-160H400v160ZM180-400h160v-160H180v160Zm440 0h160v-160H620v160ZM180-180h160v-160H180v160Zm440 0h160v-160H620v160Z\"/>\n",
              "  </svg>\n",
              "    </button>\n",
              "\n",
              "  <style>\n",
              "    .colab-df-container {\n",
              "      display:flex;\n",
              "      gap: 12px;\n",
              "    }\n",
              "\n",
              "    .colab-df-convert {\n",
              "      background-color: #E8F0FE;\n",
              "      border: none;\n",
              "      border-radius: 50%;\n",
              "      cursor: pointer;\n",
              "      display: none;\n",
              "      fill: #1967D2;\n",
              "      height: 32px;\n",
              "      padding: 0 0 0 0;\n",
              "      width: 32px;\n",
              "    }\n",
              "\n",
              "    .colab-df-convert:hover {\n",
              "      background-color: #E2EBFA;\n",
              "      box-shadow: 0px 1px 2px rgba(60, 64, 67, 0.3), 0px 1px 3px 1px rgba(60, 64, 67, 0.15);\n",
              "      fill: #174EA6;\n",
              "    }\n",
              "\n",
              "    .colab-df-buttons div {\n",
              "      margin-bottom: 4px;\n",
              "    }\n",
              "\n",
              "    [theme=dark] .colab-df-convert {\n",
              "      background-color: #3B4455;\n",
              "      fill: #D2E3FC;\n",
              "    }\n",
              "\n",
              "    [theme=dark] .colab-df-convert:hover {\n",
              "      background-color: #434B5C;\n",
              "      box-shadow: 0px 1px 3px 1px rgba(0, 0, 0, 0.15);\n",
              "      filter: drop-shadow(0px 1px 2px rgba(0, 0, 0, 0.3));\n",
              "      fill: #FFFFFF;\n",
              "    }\n",
              "  </style>\n",
              "\n",
              "    <script>\n",
              "      const buttonEl =\n",
              "        document.querySelector('#df-8fe3f6f3-5060-49e2-9370-a79d5987b497 button.colab-df-convert');\n",
              "      buttonEl.style.display =\n",
              "        google.colab.kernel.accessAllowed ? 'block' : 'none';\n",
              "\n",
              "      async function convertToInteractive(key) {\n",
              "        const element = document.querySelector('#df-8fe3f6f3-5060-49e2-9370-a79d5987b497');\n",
              "        const dataTable =\n",
              "          await google.colab.kernel.invokeFunction('convertToInteractive',\n",
              "                                                    [key], {});\n",
              "        if (!dataTable) return;\n",
              "\n",
              "        const docLinkHtml = 'Like what you see? Visit the ' +\n",
              "          '<a target=\"_blank\" href=https://colab.research.google.com/notebooks/data_table.ipynb>data table notebook</a>'\n",
              "          + ' to learn more about interactive tables.';\n",
              "        element.innerHTML = '';\n",
              "        dataTable['output_type'] = 'display_data';\n",
              "        await google.colab.output.renderOutput(dataTable, element);\n",
              "        const docLink = document.createElement('div');\n",
              "        docLink.innerHTML = docLinkHtml;\n",
              "        element.appendChild(docLink);\n",
              "      }\n",
              "    </script>\n",
              "  </div>\n",
              "\n",
              "\n",
              "<div id=\"df-e56e3e25-8660-4fb1-9e9e-4d3981ac66fb\">\n",
              "  <button class=\"colab-df-quickchart\" onclick=\"quickchart('df-e56e3e25-8660-4fb1-9e9e-4d3981ac66fb')\"\n",
              "            title=\"Suggest charts\"\n",
              "            style=\"display:none;\">\n",
              "\n",
              "<svg xmlns=\"http://www.w3.org/2000/svg\" height=\"24px\"viewBox=\"0 0 24 24\"\n",
              "     width=\"24px\">\n",
              "    <g>\n",
              "        <path d=\"M19 3H5c-1.1 0-2 .9-2 2v14c0 1.1.9 2 2 2h14c1.1 0 2-.9 2-2V5c0-1.1-.9-2-2-2zM9 17H7v-7h2v7zm4 0h-2V7h2v10zm4 0h-2v-4h2v4z\"/>\n",
              "    </g>\n",
              "</svg>\n",
              "  </button>\n",
              "\n",
              "<style>\n",
              "  .colab-df-quickchart {\n",
              "      --bg-color: #E8F0FE;\n",
              "      --fill-color: #1967D2;\n",
              "      --hover-bg-color: #E2EBFA;\n",
              "      --hover-fill-color: #174EA6;\n",
              "      --disabled-fill-color: #AAA;\n",
              "      --disabled-bg-color: #DDD;\n",
              "  }\n",
              "\n",
              "  [theme=dark] .colab-df-quickchart {\n",
              "      --bg-color: #3B4455;\n",
              "      --fill-color: #D2E3FC;\n",
              "      --hover-bg-color: #434B5C;\n",
              "      --hover-fill-color: #FFFFFF;\n",
              "      --disabled-bg-color: #3B4455;\n",
              "      --disabled-fill-color: #666;\n",
              "  }\n",
              "\n",
              "  .colab-df-quickchart {\n",
              "    background-color: var(--bg-color);\n",
              "    border: none;\n",
              "    border-radius: 50%;\n",
              "    cursor: pointer;\n",
              "    display: none;\n",
              "    fill: var(--fill-color);\n",
              "    height: 32px;\n",
              "    padding: 0;\n",
              "    width: 32px;\n",
              "  }\n",
              "\n",
              "  .colab-df-quickchart:hover {\n",
              "    background-color: var(--hover-bg-color);\n",
              "    box-shadow: 0 1px 2px rgba(60, 64, 67, 0.3), 0 1px 3px 1px rgba(60, 64, 67, 0.15);\n",
              "    fill: var(--button-hover-fill-color);\n",
              "  }\n",
              "\n",
              "  .colab-df-quickchart-complete:disabled,\n",
              "  .colab-df-quickchart-complete:disabled:hover {\n",
              "    background-color: var(--disabled-bg-color);\n",
              "    fill: var(--disabled-fill-color);\n",
              "    box-shadow: none;\n",
              "  }\n",
              "\n",
              "  .colab-df-spinner {\n",
              "    border: 2px solid var(--fill-color);\n",
              "    border-color: transparent;\n",
              "    border-bottom-color: var(--fill-color);\n",
              "    animation:\n",
              "      spin 1s steps(1) infinite;\n",
              "  }\n",
              "\n",
              "  @keyframes spin {\n",
              "    0% {\n",
              "      border-color: transparent;\n",
              "      border-bottom-color: var(--fill-color);\n",
              "      border-left-color: var(--fill-color);\n",
              "    }\n",
              "    20% {\n",
              "      border-color: transparent;\n",
              "      border-left-color: var(--fill-color);\n",
              "      border-top-color: var(--fill-color);\n",
              "    }\n",
              "    30% {\n",
              "      border-color: transparent;\n",
              "      border-left-color: var(--fill-color);\n",
              "      border-top-color: var(--fill-color);\n",
              "      border-right-color: var(--fill-color);\n",
              "    }\n",
              "    40% {\n",
              "      border-color: transparent;\n",
              "      border-right-color: var(--fill-color);\n",
              "      border-top-color: var(--fill-color);\n",
              "    }\n",
              "    60% {\n",
              "      border-color: transparent;\n",
              "      border-right-color: var(--fill-color);\n",
              "    }\n",
              "    80% {\n",
              "      border-color: transparent;\n",
              "      border-right-color: var(--fill-color);\n",
              "      border-bottom-color: var(--fill-color);\n",
              "    }\n",
              "    90% {\n",
              "      border-color: transparent;\n",
              "      border-bottom-color: var(--fill-color);\n",
              "    }\n",
              "  }\n",
              "</style>\n",
              "\n",
              "  <script>\n",
              "    async function quickchart(key) {\n",
              "      const quickchartButtonEl =\n",
              "        document.querySelector('#' + key + ' button');\n",
              "      quickchartButtonEl.disabled = true;  // To prevent multiple clicks.\n",
              "      quickchartButtonEl.classList.add('colab-df-spinner');\n",
              "      try {\n",
              "        const charts = await google.colab.kernel.invokeFunction(\n",
              "            'suggestCharts', [key], {});\n",
              "      } catch (error) {\n",
              "        console.error('Error during call to suggestCharts:', error);\n",
              "      }\n",
              "      quickchartButtonEl.classList.remove('colab-df-spinner');\n",
              "      quickchartButtonEl.classList.add('colab-df-quickchart-complete');\n",
              "    }\n",
              "    (() => {\n",
              "      let quickchartButtonEl =\n",
              "        document.querySelector('#df-e56e3e25-8660-4fb1-9e9e-4d3981ac66fb button');\n",
              "      quickchartButtonEl.style.display =\n",
              "        google.colab.kernel.accessAllowed ? 'block' : 'none';\n",
              "    })();\n",
              "  </script>\n",
              "</div>\n",
              "\n",
              "    </div>\n",
              "  </div>\n"
            ],
            "text/plain": [
              "          a1        a2          a3      a4    a5   a6    a7     a8        a9  \\\n",
              "0     844.26   1093.71   704785.63   721.0  89.0  0.0  40.0  118.0  0.000000   \n",
              "1   12709.07   2958.44  1218216.73    94.0   8.0  0.0   5.0   14.0  0.000000   \n",
              "2  246194.54   2434.02   516729.30     2.0  10.0  0.0  10.0    2.0  0.113119   \n",
              "3   10219.60  15785.09   397555.90    25.0   9.0  0.0   7.0   13.0  0.000000   \n",
              "4      36.61  10707.77   382472.42  4598.0  20.0  1.0   7.0   19.0  0.000000   \n",
              "\n",
              "          a10  ...         a38           a39            a40  a41  a42  a43  \\\n",
              "0   45.806785  ...    0.000000  1.683100e+07  271779.920000  0.0  0.0  0.0   \n",
              "1    2.613269  ...    2.260809  2.260809e+00       2.260809  0.0  0.0  0.0   \n",
              "2    1.165453  ...    0.000000  0.000000e+00       0.000000  0.0  0.0  0.0   \n",
              "3  500.000000  ...  100.000000  9.029231e+03    3804.076893  0.0  0.0  0.0   \n",
              "4   12.802411  ...    0.000000  4.500000e+04   13726.659220  0.0  0.0  0.0   \n",
              "\n",
              "    a44   a45    a46    a47  \n",
              "0  39.0  57.0   63.0  299.0  \n",
              "1   1.0   7.0  154.0  257.0  \n",
              "2   0.0   8.0  301.0  435.0  \n",
              "3   1.0  11.0  216.0  435.0  \n",
              "4   6.0  27.0  237.0  154.0  \n",
              "\n",
              "[5 rows x 47 columns]"
            ]
          },
          "execution_count": 60,
          "metadata": {},
          "output_type": "execute_result"
        }
      ],
      "source": [
        "feat_final.head()"
      ]
    },
    {
      "cell_type": "code",
      "execution_count": 61,
      "id": "c0038049-6182-4cd4-b34d-53c1d8a5dad0",
      "metadata": {
        "colab": {
          "base_uri": "https://localhost:8080/",
          "height": 238
        },
        "id": "c0038049-6182-4cd4-b34d-53c1d8a5dad0",
        "outputId": "f8969a11-8f4b-4284-ff0e-08b596e2500e"
      },
      "outputs": [
        {
          "data": {
            "text/html": [
              "<div>\n",
              "<style scoped>\n",
              "    .dataframe tbody tr th:only-of-type {\n",
              "        vertical-align: middle;\n",
              "    }\n",
              "\n",
              "    .dataframe tbody tr th {\n",
              "        vertical-align: top;\n",
              "    }\n",
              "\n",
              "    .dataframe thead th {\n",
              "        text-align: right;\n",
              "    }\n",
              "</style>\n",
              "<table border=\"1\" class=\"dataframe\">\n",
              "  <thead>\n",
              "    <tr style=\"text-align: right;\">\n",
              "      <th></th>\n",
              "      <th>Class</th>\n",
              "    </tr>\n",
              "  </thead>\n",
              "  <tbody>\n",
              "    <tr>\n",
              "      <th>0</th>\n",
              "      <td>0</td>\n",
              "    </tr>\n",
              "    <tr>\n",
              "      <th>1</th>\n",
              "      <td>0</td>\n",
              "    </tr>\n",
              "    <tr>\n",
              "      <th>2</th>\n",
              "      <td>0</td>\n",
              "    </tr>\n",
              "    <tr>\n",
              "      <th>3</th>\n",
              "      <td>0</td>\n",
              "    </tr>\n",
              "    <tr>\n",
              "      <th>4</th>\n",
              "      <td>0</td>\n",
              "    </tr>\n",
              "  </tbody>\n",
              "</table>\n",
              "</div><br><label><b>dtype:</b> int64</label>"
            ],
            "text/plain": [
              "0    0\n",
              "1    0\n",
              "2    0\n",
              "3    0\n",
              "4    0\n",
              "Name: Class, dtype: int64"
            ]
          },
          "execution_count": 61,
          "metadata": {},
          "output_type": "execute_result"
        }
      ],
      "source": [
        "label.head()"
      ]
    },
    {
      "cell_type": "markdown",
      "id": "b42e8495-3153-4a8f-a52b-3b29bdb6910e",
      "metadata": {
        "id": "b42e8495-3153-4a8f-a52b-3b29bdb6910e",
        "jp-MarkdownHeadingCollapsed": true
      },
      "source": [
        "# Subsets"
      ]
    },
    {
      "cell_type": "markdown",
      "id": "140e3536-b5aa-4862-ba4e-a95725813040",
      "metadata": {
        "id": "140e3536-b5aa-4862-ba4e-a95725813040",
        "jp-MarkdownHeadingCollapsed": true
      },
      "source": [
        "### Manual selection of attributes (Droping columns with only 0 as their values)"
      ]
    },
    {
      "cell_type": "code",
      "execution_count": 62,
      "id": "bab07104-6256-4bcb-a04e-ce3f6f556c01",
      "metadata": {
        "id": "bab07104-6256-4bcb-a04e-ce3f6f556c01"
      },
      "outputs": [],
      "source": [
        "manual_drop = ['a15', 'a16', 'a17', 'a21', 'a31', 'a32', 'a33', 'a34', 'a41', 'a42', 'a43']\n",
        "feat_manual = feat_final.drop(columns=manual_drop)\n",
        "feat_manual.to_csv('feat_manual_subset.csv', index=False)"
      ]
    },
    {
      "cell_type": "code",
      "execution_count": 63,
      "id": "eb6b9917-3c13-457d-b204-55db03571040",
      "metadata": {
        "colab": {
          "base_uri": "https://localhost:8080/"
        },
        "id": "eb6b9917-3c13-457d-b204-55db03571040",
        "outputId": "a73fc4e8-e8f0-4bd1-ca9b-95fa63aac4dc"
      },
      "outputs": [
        {
          "name": "stdout",
          "output_type": "stream",
          "text": [
            "Feature list in feat_manual: ['a1', 'a2', 'a3', 'a4', 'a5', 'a6', 'a7', 'a8', 'a9', 'a10', 'a11', 'a12', 'a13', 'a14', 'a18', 'a19', 'a20', 'a22', 'a23', 'a24', 'a25', 'a26', 'a27', 'a28', 'a29', 'a30', 'a35', 'a36', 'a37', 'a38', 'a39', 'a40', 'a44', 'a45', 'a46', 'a47']\n"
          ]
        }
      ],
      "source": [
        "# Print the feature list in feat_manual\n",
        "print(\"Feature list in feat_manual:\", feat_manual.columns.tolist())"
      ]
    },
    {
      "cell_type": "markdown",
      "id": "595d70a2-4fff-4b0c-a697-5cb9de9d3afb",
      "metadata": {
        "id": "595d70a2-4fff-4b0c-a697-5cb9de9d3afb",
        "jp-MarkdownHeadingCollapsed": true
      },
      "source": [
        "### Information Gain-based Selection: Select top 25 attributes with highest information gain"
      ]
    },
    {
      "cell_type": "code",
      "execution_count": 64,
      "id": "7b60e396-0c62-433b-86bc-4fc2ec6e1d4e",
      "metadata": {
        "id": "7b60e396-0c62-433b-86bc-4fc2ec6e1d4e"
      },
      "outputs": [],
      "source": [
        "selector_ig = SelectKBest(mutual_info_classif, k=25).fit(feat_final.fillna(0), label)  # Fill NaNs for calculation\n",
        "feat_info_gain = feat_final.loc[:, selector_ig.get_support()]\n",
        "feat_info_gain.to_csv('feat_info_gain_subset.csv', index=False)"
      ]
    },
    {
      "cell_type": "code",
      "execution_count": 65,
      "id": "35a92a0b-122d-4f3e-9fb8-1fda8c123bc5",
      "metadata": {
        "colab": {
          "base_uri": "https://localhost:8080/"
        },
        "id": "35a92a0b-122d-4f3e-9fb8-1fda8c123bc5",
        "outputId": "16bb8e5b-333c-451b-a6dc-fffcec6a362f"
      },
      "outputs": [
        {
          "name": "stdout",
          "output_type": "stream",
          "text": [
            "Feature list in feat_manual: ['a3', 'a7', 'a10', 'a11', 'a18', 'a20', 'a22', 'a23', 'a24', 'a25', 'a26', 'a27', 'a28', 'a29', 'a30', 'a35', 'a36', 'a37', 'a38', 'a39', 'a40', 'a44', 'a45', 'a46', 'a47']\n"
          ]
        }
      ],
      "source": [
        "# Print the feature list in feat_manual\n",
        "print(\"Feature list in feat_manual:\", feat_info_gain.columns.tolist())"
      ]
    },
    {
      "cell_type": "markdown",
      "id": "68672092-0c14-4dc4-a37b-c8343977a769",
      "metadata": {
        "id": "68672092-0c14-4dc4-a37b-c8343977a769",
        "jp-MarkdownHeadingCollapsed": true
      },
      "source": [
        "### Correlation-based Selection: Select top 10 attributes with highest correlation to the target"
      ]
    },
    {
      "cell_type": "code",
      "execution_count": 66,
      "id": "9e5ac441-ff18-4b9c-99ab-75f6c0e9b22e",
      "metadata": {
        "colab": {
          "base_uri": "https://localhost:8080/"
        },
        "id": "9e5ac441-ff18-4b9c-99ab-75f6c0e9b22e",
        "outputId": "549b583e-0929-406f-a463-f620a933a08f"
      },
      "outputs": [
        {
          "name": "stderr",
          "output_type": "stream",
          "text": [
            "/usr/local/lib/python3.10/dist-packages/numpy/lib/function_base.py:2897: RuntimeWarning:\n",
            "\n",
            "invalid value encountered in divide\n",
            "\n",
            "/usr/local/lib/python3.10/dist-packages/numpy/lib/function_base.py:2898: RuntimeWarning:\n",
            "\n",
            "invalid value encountered in divide\n",
            "\n"
          ]
        }
      ],
      "source": [
        "correlations = feat_final.corrwith(label.astype(int))\n",
        "correlated_features = correlations.abs().sort_values(ascending=False).head(20).index\n",
        "feat_correlation = feat_final[correlated_features]\n",
        "feat_correlation.to_csv('feat_correlation_subset.csv', index=False)"
      ]
    },
    {
      "cell_type": "code",
      "execution_count": 67,
      "id": "212d87e5-ecda-489f-a8cc-f7693d32d947",
      "metadata": {
        "colab": {
          "base_uri": "https://localhost:8080/"
        },
        "id": "212d87e5-ecda-489f-a8cc-f7693d32d947",
        "outputId": "2ae467c2-bf67-447b-f2f4-5f3f3b24de63"
      },
      "outputs": [
        {
          "name": "stdout",
          "output_type": "stream",
          "text": [
            "Feature list in feat_manual: ['a47', 'a3', 'a2', 'a18', 'a5', 'a4', 'a46', 'a14', 'a8', 'a7', 'a1', 'a13', 'a9', 'a23', 'a38', 'a40', 'a39', 'a25', 'a10', 'a27']\n"
          ]
        }
      ],
      "source": [
        "# Print the feature list in feat_manual\n",
        "print(\"Feature list in feat_manual:\", feat_correlation.columns.tolist())"
      ]
    },
    {
      "cell_type": "markdown",
      "id": "fc9265b9-764b-41d2-853f-ec79660638e3",
      "metadata": {
        "id": "fc9265b9-764b-41d2-853f-ec79660638e3",
        "jp-MarkdownHeadingCollapsed": true
      },
      "source": [
        "# Manual subset"
      ]
    },
    {
      "cell_type": "markdown",
      "id": "a2ae295f-2234-4ac9-a755-26e0be93014c",
      "metadata": {
        "id": "a2ae295f-2234-4ac9-a755-26e0be93014c",
        "jp-MarkdownHeadingCollapsed": true
      },
      "source": [
        "### XGBOOST"
      ]
    },
    {
      "cell_type": "code",
      "execution_count": 68,
      "id": "9d81da9a-ba5f-4be4-a9bf-3001ae7c75c8",
      "metadata": {
        "id": "9d81da9a-ba5f-4be4-a9bf-3001ae7c75c8"
      },
      "outputs": [],
      "source": [
        "# Split the Dataset into train and test set in 70:30 ratio\n",
        "from sklearn.model_selection import train_test_split\n",
        "\n",
        "X_train_1, X_test_1, y_train_1, y_test_1 = train_test_split(feat_manual, label, test_size=0.3, random_state=42, stratify=label)"
      ]
    },
    {
      "cell_type": "code",
      "execution_count": 69,
      "id": "448f4366-b4e6-491f-8536-67f8cd116871",
      "metadata": {
        "colab": {
          "base_uri": "https://localhost:8080/",
          "height": 699
        },
        "id": "448f4366-b4e6-491f-8536-67f8cd116871",
        "outputId": "0ffca967-5fa3-4c1d-bb6b-12ff9157a258"
      },
      "outputs": [
        {
          "name": "stdout",
          "output_type": "stream",
          "text": [
            "\n",
            "Accuracy: 0.993\n",
            "\n",
            "Classification Report:\n",
            "               precision    recall  f1-score   support\n",
            "\n",
            "           0       0.99      1.00      1.00      2299\n",
            "           1       1.00      0.97      0.98       654\n",
            "\n",
            "    accuracy                           0.99      2953\n",
            "   macro avg       0.99      0.99      0.99      2953\n",
            "weighted avg       0.99      0.99      0.99      2953\n",
            "\n"
          ]
        },
        {
          "data": {
            "image/png": "[encoded data removed]",
            "text/plain": [
              "<Figure size 600x400 with 2 Axes>"
            ]
          },
          "metadata": {},
          "output_type": "display_data"
        },
        {
          "name": "stdout",
          "output_type": "stream",
          "text": [
            "True Positives (TP): 636\n",
            "False Positives (FP): 2\n",
            "True Negatives (TN): 2297\n",
            "False Negatives (FN): 18\n"
          ]
        }
      ],
      "source": [
        "# Initialize and Train the XGBoost Classifier\n",
        "from xgboost import XGBClassifier\n",
        "xgb1 = XGBClassifier(random_state=50, n_estimators=50, eval_metric='logloss')\n",
        "xgb1.fit(X_train_1, y_train_1)\n",
        "\n",
        "# Make Predictions\n",
        "label_pred_1 = xgb1.predict(X_test_1)\n",
        "\n",
        "# Calculate Accuracy and Classification Report\n",
        "from sklearn.metrics import accuracy_score, classification_report, confusion_matrix\n",
        "\n",
        "accuracy_xgb_1 = accuracy_score(y_test_1, label_pred_1)\n",
        "report_xgb_1 = classification_report(y_test_1, label_pred_1)\n",
        "print(f\"\\nAccuracy: {accuracy_xgb_1:.3f}\")\n",
        "print(\"\\nClassification Report:\\n\", report_xgb_1)\n",
        "\n",
        "conf_matrix = confusion_matrix(y_test_1, label_pred_1)\n",
        "plt.figure(figsize=(6,4))\n",
        "sns.heatmap(conf_matrix, annot=True, fmt='d', cmap='Blues', xticklabels=['False', 'True'], yticklabels=['False', 'True'])\n",
        "plt.xlabel('Predicted')\n",
        "plt.ylabel('Actual')\n",
        "plt.title('Confusion Matrix for XGB')\n",
        "plt.show()\n",
        "\n",
        "tn, fp, fn, tp = confusion_matrix(y_test_1, label_pred_1).ravel()\n",
        "\n",
        "# Print TP, FP, TN, FN\n",
        "print(f\"True Positives (TP): {tp}\")\n",
        "print(f\"False Positives (FP): {fp}\")\n",
        "print(f\"True Negatives (TN): {tn}\")\n",
        "print(f\"False Negatives (FN): {fn}\")"
      ]
    },
    {
      "cell_type": "markdown",
      "id": "1be5cdf2-7d28-45ae-b2a7-8aad792220f8",
      "metadata": {
        "id": "1be5cdf2-7d28-45ae-b2a7-8aad792220f8",
        "jp-MarkdownHeadingCollapsed": true
      },
      "source": [
        "### KNN"
      ]
    },
    {
      "cell_type": "code",
      "execution_count": 70,
      "id": "cc15101e-79ef-4dc9-9602-aa7a62717596",
      "metadata": {
        "colab": {
          "base_uri": "https://localhost:8080/",
          "height": 699
        },
        "id": "cc15101e-79ef-4dc9-9602-aa7a62717596",
        "outputId": "44075290-ea85-43a4-84ea-7b71d1795a4d"
      },
      "outputs": [
        {
          "name": "stdout",
          "output_type": "stream",
          "text": [
            "\n",
            "Accuracy: 0.920\n",
            "\n",
            "Classification Report for KNN:\n",
            "               precision    recall  f1-score   support\n",
            "\n",
            "           0       0.94      0.96      0.95      2299\n",
            "           1       0.86      0.76      0.81       654\n",
            "\n",
            "    accuracy                           0.92      2953\n",
            "   macro avg       0.90      0.86      0.88      2953\n",
            "weighted avg       0.92      0.92      0.92      2953\n",
            "\n"
          ]
        },
        {
          "data": {
            "image/png": "[encoded data removed]",
            "text/plain": [
              "<Figure size 600x400 with 2 Axes>"
            ]
          },
          "metadata": {},
          "output_type": "display_data"
        },
        {
          "name": "stdout",
          "output_type": "stream",
          "text": [
            "True Positives (TP): 500\n",
            "False Positives (FP): 81\n",
            "True Negatives (TN): 2218\n",
            "False Negatives (FN): 154\n"
          ]
        }
      ],
      "source": [
        "from sklearn.neighbors import KNeighborsClassifier\n",
        "\n",
        "# Initialize and train the model\n",
        "knn1 = KNeighborsClassifier(n_neighbors=5)\n",
        "knn1.fit(X_train_1, y_train_1)\n",
        "\n",
        "# Predictions and evaluation\n",
        "label_knn_1 = knn1.predict(X_test_1)\n",
        "\n",
        "accuracy_knn_1 = accuracy_score(y_test_1, label_knn_1)\n",
        "report_knn_1 = classification_report(y_test_1, label_knn_1)\n",
        "print(f\"\\nAccuracy: {accuracy_knn_1:.3f}\")\n",
        "print(\"\\nClassification Report for KNN:\\n\", report_knn_1)\n",
        "\n",
        "conf_matrix = confusion_matrix(y_test_1, label_knn_1)\n",
        "plt.figure(figsize=(6,4))\n",
        "sns.heatmap(conf_matrix, annot=True, fmt='d', cmap='Blues', xticklabels=['False', 'True'], yticklabels=['False', 'True'])\n",
        "plt.xlabel('Predicted')\n",
        "plt.ylabel('Actual')\n",
        "plt.title('Confusion Matrix for KNN')\n",
        "plt.show()\n",
        "\n",
        "tn, fp, fn, tp = confusion_matrix(y_test_1, label_knn_1).ravel()\n",
        "\n",
        "# Print TP, FP, TN, FN\n",
        "print(f\"True Positives (TP): {tp}\")\n",
        "print(f\"False Positives (FP): {fp}\")\n",
        "print(f\"True Negatives (TN): {tn}\")\n",
        "print(f\"False Negatives (FN): {fn}\")"
      ]
    },
    {
      "cell_type": "markdown",
      "id": "756b740a-b1e2-4ea6-b3ed-35e4883bd65d",
      "metadata": {
        "id": "756b740a-b1e2-4ea6-b3ed-35e4883bd65d",
        "jp-MarkdownHeadingCollapsed": true
      },
      "source": [
        "### DECISION TREE"
      ]
    },
    {
      "cell_type": "code",
      "execution_count": 71,
      "id": "100713f2-dcee-4779-ae77-b8afabe0446a",
      "metadata": {
        "colab": {
          "base_uri": "https://localhost:8080/",
          "height": 699
        },
        "id": "100713f2-dcee-4779-ae77-b8afabe0446a",
        "outputId": "cd10bc23-11b8-40ed-ce88-8b5ecb08d99f"
      },
      "outputs": [
        {
          "name": "stdout",
          "output_type": "stream",
          "text": [
            "\n",
            "Accuracy: 0.984\n",
            "\n",
            "Classification Report for Decision Tree Classifier:\n",
            "               precision    recall  f1-score   support\n",
            "\n",
            "           0       0.99      0.99      0.99      2299\n",
            "           1       0.96      0.97      0.96       654\n",
            "\n",
            "    accuracy                           0.98      2953\n",
            "   macro avg       0.98      0.98      0.98      2953\n",
            "weighted avg       0.98      0.98      0.98      2953\n",
            "\n"
          ]
        },
        {
          "data": {
            "image/png": "[encoded data removed]",
            "text/plain": [
              "<Figure size 600x400 with 2 Axes>"
            ]
          },
          "metadata": {},
          "output_type": "display_data"
        },
        {
          "name": "stdout",
          "output_type": "stream",
          "text": [
            "True Positives (TP): 633\n",
            "False Positives (FP): 26\n",
            "True Negatives (TN): 2273\n",
            "False Negatives (FN): 21\n"
          ]
        }
      ],
      "source": [
        "from sklearn.tree import DecisionTreeClassifier\n",
        "\n",
        "# Initialize and train the model\n",
        "dt1 = DecisionTreeClassifier(random_state=42)\n",
        "dt1.fit(X_train_1, y_train_1)\n",
        "\n",
        "# Make predictions on the test set\n",
        "label_dt_1 = dt1.predict(X_test_1)\n",
        "\n",
        "accuracy_dt_1 = accuracy_score(y_test_1, label_dt_1)\n",
        "report_dt_1 = classification_report(y_test_1, label_dt_1)\n",
        "print(f\"\\nAccuracy: {accuracy_dt_1:.3f}\")\n",
        "print(\"\\nClassification Report for Decision Tree Classifier:\\n\", report_dt_1)\n",
        "\n",
        "conf_matrix = confusion_matrix(y_test_1, label_dt_1)\n",
        "plt.figure(figsize=(6,4))\n",
        "sns.heatmap(conf_matrix, annot=True, fmt='d', cmap='Blues', xticklabels=['False', 'True'], yticklabels=['False', 'True'])\n",
        "plt.xlabel('Predicted')\n",
        "plt.ylabel('Actual')\n",
        "plt.title('Confusion Matrix for Decision Tree Classifier')\n",
        "plt.show()\n",
        "\n",
        "tn, fp, fn, tp = confusion_matrix(y_test_1, label_dt_1).ravel()\n",
        "\n",
        "# Print TP, FP, TN, FN\n",
        "print(f\"True Positives (TP): {tp}\")\n",
        "print(f\"False Positives (FP): {fp}\")\n",
        "print(f\"True Negatives (TN): {tn}\")\n",
        "print(f\"False Negatives (FN): {fn}\")"
      ]
    },
    {
      "cell_type": "markdown",
      "id": "afc92c98-4e67-4b8f-9c06-9f3ff98b4bc1",
      "metadata": {
        "id": "afc92c98-4e67-4b8f-9c06-9f3ff98b4bc1",
        "jp-MarkdownHeadingCollapsed": true
      },
      "source": [
        "# Information Gain Subset"
      ]
    },
    {
      "cell_type": "code",
      "execution_count": 72,
      "id": "120f53d2-c5a2-477d-ae6e-4cfd08d43481",
      "metadata": {
        "id": "120f53d2-c5a2-477d-ae6e-4cfd08d43481"
      },
      "outputs": [],
      "source": [
        "# Split the Dataset\n",
        "X_train_2, X_test_2, y_train_2, y_test_2 = train_test_split(feat_info_gain, label, test_size=0.3, random_state=42, stratify=label)"
      ]
    },
    {
      "cell_type": "markdown",
      "id": "864e65a6-9127-4359-9736-802c3c34656b",
      "metadata": {
        "id": "864e65a6-9127-4359-9736-802c3c34656b",
        "jp-MarkdownHeadingCollapsed": true
      },
      "source": [
        "### XGBOOST"
      ]
    },
    {
      "cell_type": "code",
      "execution_count": 73,
      "id": "9af24874-678a-4a6e-81f8-ef60a5cfa561",
      "metadata": {
        "colab": {
          "base_uri": "https://localhost:8080/",
          "height": 699
        },
        "id": "9af24874-678a-4a6e-81f8-ef60a5cfa561",
        "outputId": "58366185-d24a-4f12-b4c2-aa2b52ba6a88"
      },
      "outputs": [
        {
          "name": "stdout",
          "output_type": "stream",
          "text": [
            "\n",
            "Accuracy: 0.993\n",
            "\n",
            "Classification Report for XGB:\n",
            "               precision    recall  f1-score   support\n",
            "\n",
            "           0       0.99      1.00      1.00      2299\n",
            "           1       0.99      0.98      0.98       654\n",
            "\n",
            "    accuracy                           0.99      2953\n",
            "   macro avg       0.99      0.99      0.99      2953\n",
            "weighted avg       0.99      0.99      0.99      2953\n",
            "\n"
          ]
        },
        {
          "data": {
            "image/png": "[encoded data removed]",
            "text/plain": [
              "<Figure size 600x400 with 2 Axes>"
            ]
          },
          "metadata": {},
          "output_type": "display_data"
        },
        {
          "name": "stdout",
          "output_type": "stream",
          "text": [
            "True Positives (TP): 638\n",
            "False Positives (FP): 4\n",
            "True Negatives (TN): 2295\n",
            "False Negatives (FN): 16\n"
          ]
        }
      ],
      "source": [
        "# Initialize and Train the XGBoost Classifier\n",
        "xgb2 = XGBClassifier(random_state=50, n_estimators=50, eval_metric='logloss')\n",
        "xgb2.fit(X_train_2, y_train_2)\n",
        "\n",
        "# Make Predictions\n",
        "label_xgb_2 = xgb2.predict(X_test_2)\n",
        "\n",
        "# Calculate Accuracy and Classification Report\n",
        "accuracy_xgb_2 = accuracy_score(y_test_2, label_xgb_2)\n",
        "report_xgb_2 = classification_report(y_test_2, label_xgb_2)\n",
        "print(f\"\\nAccuracy: {accuracy_xgb_2:.3f}\")\n",
        "print(\"\\nClassification Report for XGB:\\n\", report_xgb_2)\n",
        "\n",
        "conf_matrix = confusion_matrix(y_test_2, label_xgb_2)\n",
        "plt.figure(figsize=(6,4))\n",
        "sns.heatmap(conf_matrix, annot=True, fmt='d', cmap='Blues', xticklabels=['False', 'True'], yticklabels=['False', 'True'])\n",
        "plt.xlabel('Predicted')\n",
        "plt.ylabel('Actual')\n",
        "plt.title('Confusion Matrix for XGB')\n",
        "plt.show()\n",
        "\n",
        "tn, fp, fn, tp = confusion_matrix(y_test_2, label_xgb_2).ravel()\n",
        "\n",
        "# Print TP, FP, TN, FN\n",
        "print(f\"True Positives (TP): {tp}\")\n",
        "print(f\"False Positives (FP): {fp}\")\n",
        "print(f\"True Negatives (TN): {tn}\")\n",
        "print(f\"False Negatives (FN): {fn}\")"
      ]
    },
    {
      "cell_type": "markdown",
      "id": "ebbe9f89-0860-4193-b8b6-1912fa81b616",
      "metadata": {
        "id": "ebbe9f89-0860-4193-b8b6-1912fa81b616",
        "jp-MarkdownHeadingCollapsed": true
      },
      "source": [
        "### KNN"
      ]
    },
    {
      "cell_type": "code",
      "execution_count": 74,
      "id": "4397b42e-d12d-4237-9a6b-2f9728a95916",
      "metadata": {
        "colab": {
          "base_uri": "https://localhost:8080/",
          "height": 699
        },
        "id": "4397b42e-d12d-4237-9a6b-2f9728a95916",
        "outputId": "1b5f763c-5993-4f03-9aed-a91e5c347123"
      },
      "outputs": [
        {
          "name": "stdout",
          "output_type": "stream",
          "text": [
            "\n",
            "Accuracy: 0.920\n",
            "\n",
            "Classification Report for KNN:\n",
            "               precision    recall  f1-score   support\n",
            "\n",
            "           0       0.92      0.96      0.94      2299\n",
            "           1       0.83      0.71      0.77       654\n",
            "\n",
            "    accuracy                           0.90      2953\n",
            "   macro avg       0.87      0.84      0.85      2953\n",
            "weighted avg       0.90      0.90      0.90      2953\n",
            "\n"
          ]
        },
        {
          "data": {
            "image/png": "[encoded data removed]",
            "text/plain": [
              "<Figure size 600x400 with 2 Axes>"
            ]
          },
          "metadata": {},
          "output_type": "display_data"
        },
        {
          "name": "stdout",
          "output_type": "stream",
          "text": [
            "True Positives (TP): 467\n",
            "False Positives (FP): 99\n",
            "True Negatives (TN): 2200\n",
            "False Negatives (FN): 187\n"
          ]
        }
      ],
      "source": [
        "# Initialize and train the model\n",
        "knn2 = KNeighborsClassifier(n_neighbors=5)\n",
        "knn2.fit(X_train_2, y_train_2)\n",
        "\n",
        "# Predictions and evaluation\n",
        "label_knn_2 = knn2.predict(X_test_2)\n",
        "\n",
        "# Calculate Accuracy and Classification Report\n",
        "accuracy_knn_2 = accuracy_score(y_test_2, label_knn_2)\n",
        "report_knn_2 = classification_report(y_test_2, label_knn_2)\n",
        "print(f\"\\nAccuracy: {accuracy_knn_1:.3f}\")\n",
        "print(\"\\nClassification Report for KNN:\\n\", report_knn_2)\n",
        "\n",
        "conf_matrix = confusion_matrix(y_test_2, label_knn_2)\n",
        "plt.figure(figsize=(6,4))\n",
        "sns.heatmap(conf_matrix, annot=True, fmt='d', cmap='Blues', xticklabels=['False', 'True'], yticklabels=['False', 'True'])\n",
        "plt.xlabel('Predicted')\n",
        "plt.ylabel('Actual')\n",
        "plt.title('Confusion Matrix for KNN')\n",
        "plt.show()\n",
        "\n",
        "tn, fp, fn, tp = confusion_matrix(y_test_2, label_knn_2).ravel()\n",
        "\n",
        "# Print TP, FP, TN, FN\n",
        "print(f\"True Positives (TP): {tp}\")\n",
        "print(f\"False Positives (FP): {fp}\")\n",
        "print(f\"True Negatives (TN): {tn}\")\n",
        "print(f\"False Negatives (FN): {fn}\")"
      ]
    },
    {
      "cell_type": "markdown",
      "id": "83a4a293-f920-465f-beed-e40767daaaba",
      "metadata": {
        "id": "83a4a293-f920-465f-beed-e40767daaaba",
        "jp-MarkdownHeadingCollapsed": true
      },
      "source": [
        "### DECISION TREE"
      ]
    },
    {
      "cell_type": "code",
      "execution_count": 75,
      "id": "95c1cb24-7140-4a14-81e1-ffe17d5c82fa",
      "metadata": {
        "colab": {
          "base_uri": "https://localhost:8080/",
          "height": 699
        },
        "id": "95c1cb24-7140-4a14-81e1-ffe17d5c82fa",
        "outputId": "ce0862a4-796f-4533-dcfd-0238b2662e8c"
      },
      "outputs": [
        {
          "name": "stdout",
          "output_type": "stream",
          "text": [
            "\n",
            "Accuracy: 0.987\n",
            "\n",
            "Classification Report for Decision Tree Classifier:\n",
            "               precision    recall  f1-score   support\n",
            "\n",
            "           0       0.99      0.99      0.99      2299\n",
            "           1       0.97      0.98      0.97       654\n",
            "\n",
            "    accuracy                           0.99      2953\n",
            "   macro avg       0.98      0.98      0.98      2953\n",
            "weighted avg       0.99      0.99      0.99      2953\n",
            "\n"
          ]
        },
        {
          "data": {
            "image/png": "[encoded data removed]",
            "text/plain": [
              "<Figure size 600x400 with 2 Axes>"
            ]
          },
          "metadata": {},
          "output_type": "display_data"
        },
        {
          "name": "stdout",
          "output_type": "stream",
          "text": [
            "True Positives (TP): 638\n",
            "False Positives (FP): 23\n",
            "True Negatives (TN): 2276\n",
            "False Negatives (FN): 16\n"
          ]
        }
      ],
      "source": [
        "# Initialize and train the model\n",
        "dt2 = DecisionTreeClassifier(random_state=42)\n",
        "dt2.fit(X_train_2, y_train_2)\n",
        "\n",
        "# Make predictions on the test set\n",
        "label_dt_2 = dt2.predict(X_test_2)\n",
        "\n",
        "# Calculate Accuracy and Classification Report\n",
        "accuracy_dt_2 = accuracy_score(y_test_2, label_dt_2)\n",
        "report_dt_2 = classification_report(y_test_2, label_dt_2)\n",
        "print(f\"\\nAccuracy: {accuracy_dt_2:.3f}\")\n",
        "print(\"\\nClassification Report for Decision Tree Classifier:\\n\", report_dt_2)\n",
        "\n",
        "conf_matrix = confusion_matrix(y_test_2, label_dt_2)\n",
        "plt.figure(figsize=(6,4))\n",
        "sns.heatmap(conf_matrix, annot=True, fmt='d', cmap='Blues', xticklabels=['False', 'True'], yticklabels=['False', 'True'])\n",
        "plt.xlabel('Predicted')\n",
        "plt.ylabel('Actual')\n",
        "plt.title('Confusion Matrix for Decision Tree Classifier')\n",
        "plt.show()\n",
        "\n",
        "tn, fp, fn, tp = confusion_matrix(y_test_2, label_dt_2).ravel()\n",
        "\n",
        "# Print TP, FP, TN, FN\n",
        "print(f\"True Positives (TP): {tp}\")\n",
        "print(f\"False Positives (FP): {fp}\")\n",
        "print(f\"True Negatives (TN): {tn}\")\n",
        "print(f\"False Negatives (FN): {fn}\")"
      ]
    },
    {
      "cell_type": "markdown",
      "id": "777b67ce-b770-4fcd-a031-4d4cf2fa8eb0",
      "metadata": {
        "id": "777b67ce-b770-4fcd-a031-4d4cf2fa8eb0",
        "jp-MarkdownHeadingCollapsed": true
      },
      "source": [
        "# Corelation subset"
      ]
    },
    {
      "cell_type": "code",
      "execution_count": 76,
      "id": "659ee650-1f18-489a-bd00-3952ebb4b326",
      "metadata": {
        "id": "659ee650-1f18-489a-bd00-3952ebb4b326"
      },
      "outputs": [],
      "source": [
        "# Split the Dataset\n",
        "X_train_3, X_test_3, y_train_3, y_test_3 = train_test_split(feat_correlation, label, test_size=0.3, random_state=42, stratify=label)"
      ]
    },
    {
      "cell_type": "markdown",
      "id": "5c2fdf43-0497-40d0-905b-a561da70adb4",
      "metadata": {
        "id": "5c2fdf43-0497-40d0-905b-a561da70adb4",
        "jp-MarkdownHeadingCollapsed": true
      },
      "source": [
        "### XGBOOST"
      ]
    },
    {
      "cell_type": "code",
      "execution_count": 77,
      "id": "5289194b-f730-41b4-b663-4cc16554b226",
      "metadata": {
        "colab": {
          "base_uri": "https://localhost:8080/",
          "height": 699
        },
        "id": "5289194b-f730-41b4-b663-4cc16554b226",
        "outputId": "57b5b40b-8230-4b63-e6b2-15181c8c07cf"
      },
      "outputs": [
        {
          "name": "stdout",
          "output_type": "stream",
          "text": [
            "\n",
            "Accuracy: 0.993\n",
            "\n",
            "Classification Report:\n",
            "               precision    recall  f1-score   support\n",
            "\n",
            "           0       0.99      1.00      1.00      2299\n",
            "           1       0.99      0.98      0.98       654\n",
            "\n",
            "    accuracy                           0.99      2953\n",
            "   macro avg       0.99      0.99      0.99      2953\n",
            "weighted avg       0.99      0.99      0.99      2953\n",
            "\n"
          ]
        },
        {
          "data": {
            "image/png": "[encoded data removed]",
            "text/plain": [
              "<Figure size 600x400 with 2 Axes>"
            ]
          },
          "metadata": {},
          "output_type": "display_data"
        },
        {
          "name": "stdout",
          "output_type": "stream",
          "text": [
            "True Positives (TP): 638\n",
            "False Positives (FP): 4\n",
            "True Negatives (TN): 2295\n",
            "False Negatives (FN): 16\n"
          ]
        }
      ],
      "source": [
        "# Initialize and Train the XGBoost Classifier\n",
        "xgb3 = XGBClassifier(random_state=50, n_estimators=50, eval_metric='logloss')\n",
        "xgb3.fit(X_train_3, y_train_3)\n",
        "\n",
        "# Make Predictions\n",
        "label_pred_3 = xgb3.predict(X_test_3)\n",
        "\n",
        "# Calculate Accuracy and Classification Report\n",
        "accuracy_xgb_3 = accuracy_score(y_test_3, label_pred_3)\n",
        "report_xgb_3 = classification_report(y_test_3, label_pred_3)\n",
        "print(f\"\\nAccuracy: {accuracy_xgb_3:.3f}\")\n",
        "print(\"\\nClassification Report:\\n\", report_xgb_3)\n",
        "\n",
        "conf_matrix = confusion_matrix(y_test_3, label_pred_3)\n",
        "plt.figure(figsize=(6,4))\n",
        "sns.heatmap(conf_matrix, annot=True, fmt='d', cmap='Blues', xticklabels=['False', 'True'], yticklabels=['False', 'True'])\n",
        "plt.xlabel('Predicted')\n",
        "plt.ylabel('Actual')\n",
        "plt.title('Confusion Matrix for XGB')\n",
        "plt.show()\n",
        "\n",
        "tn, fp, fn, tp = confusion_matrix(y_test_3, label_pred_3).ravel()\n",
        "\n",
        "# Print TP, FP, TN, FN\n",
        "print(f\"True Positives (TP): {tp}\")\n",
        "print(f\"False Positives (FP): {fp}\")\n",
        "print(f\"True Negatives (TN): {tn}\")\n",
        "print(f\"False Negatives (FN): {fn}\")"
      ]
    },
    {
      "cell_type": "markdown",
      "id": "4f31c9ed-40c2-4722-9b87-afa1f6ae8b63",
      "metadata": {
        "id": "4f31c9ed-40c2-4722-9b87-afa1f6ae8b63",
        "jp-MarkdownHeadingCollapsed": true
      },
      "source": [
        "### KNN"
      ]
    },
    {
      "cell_type": "code",
      "execution_count": 78,
      "id": "cf4e362b-de36-4eae-9d7c-5f79d46df281",
      "metadata": {
        "colab": {
          "base_uri": "https://localhost:8080/",
          "height": 699
        },
        "id": "cf4e362b-de36-4eae-9d7c-5f79d46df281",
        "outputId": "f41f8851-67e3-4ccc-d4a7-876a24ee8758"
      },
      "outputs": [
        {
          "name": "stdout",
          "output_type": "stream",
          "text": [
            "\n",
            "Accuracy: 0.924\n",
            "\n",
            "Classification Report for KNN:\n",
            "               precision    recall  f1-score   support\n",
            "\n",
            "           0       0.94      0.97      0.95      2299\n",
            "           1       0.87      0.78      0.82       654\n",
            "\n",
            "    accuracy                           0.92      2953\n",
            "   macro avg       0.90      0.87      0.89      2953\n",
            "weighted avg       0.92      0.92      0.92      2953\n",
            "\n"
          ]
        },
        {
          "data": {
            "image/png": "[encoded data removed]",
            "text/plain": [
              "<Figure size 600x400 with 2 Axes>"
            ]
          },
          "metadata": {},
          "output_type": "display_data"
        },
        {
          "name": "stdout",
          "output_type": "stream",
          "text": [
            "True Positives (TP): 509\n",
            "False Positives (FP): 78\n",
            "True Negatives (TN): 2221\n",
            "False Negatives (FN): 145\n"
          ]
        }
      ],
      "source": [
        "# Initialize and train the model\n",
        "knn3 = KNeighborsClassifier(n_neighbors=5)\n",
        "knn3.fit(X_train_3, y_train_3)\n",
        "\n",
        "# Predictions and evaluation\n",
        "label_knn_3 = knn3.predict(X_test_3)\n",
        "\n",
        "# Calculate Accuracy and Classification Report\n",
        "accuracy_knn_3 = accuracy_score(y_test_3, label_knn_3)\n",
        "report_knn_3 = classification_report(y_test_3, label_knn_3)\n",
        "print(f\"\\nAccuracy: {accuracy_knn_3:.3f}\")\n",
        "print(\"\\nClassification Report for KNN:\\n\", report_knn_3)\n",
        "\n",
        "conf_matrix = confusion_matrix(y_test_3, label_knn_3)\n",
        "plt.figure(figsize=(6,4))\n",
        "sns.heatmap(conf_matrix, annot=True, fmt='d', cmap='Blues', xticklabels=['False', 'True'], yticklabels=['False', 'True'])\n",
        "plt.xlabel('Predicted')\n",
        "plt.ylabel('Actual')\n",
        "plt.title('Confusion Matrix for KNN')\n",
        "plt.show()\n",
        "\n",
        "tn, fp, fn, tp = confusion_matrix(y_test_3, label_knn_3).ravel()\n",
        "\n",
        "# Print TP, FP, TN, FN\n",
        "print(f\"True Positives (TP): {tp}\")\n",
        "print(f\"False Positives (FP): {fp}\")\n",
        "print(f\"True Negatives (TN): {tn}\")\n",
        "print(f\"False Negatives (FN): {fn}\")"
      ]
    },
    {
      "cell_type": "markdown",
      "id": "851a1262-d235-4400-bc5e-cc75b0e4a92d",
      "metadata": {
        "id": "851a1262-d235-4400-bc5e-cc75b0e4a92d",
        "jp-MarkdownHeadingCollapsed": true
      },
      "source": [
        "### DECISION TREE"
      ]
    },
    {
      "cell_type": "code",
      "execution_count": 79,
      "id": "dfa188f0-dcf2-460e-8ecc-ad37dae0780e",
      "metadata": {
        "colab": {
          "base_uri": "https://localhost:8080/",
          "height": 699
        },
        "id": "dfa188f0-dcf2-460e-8ecc-ad37dae0780e",
        "outputId": "c4960736-0944-4f88-94bf-bf40ee0f4b66"
      },
      "outputs": [
        {
          "name": "stdout",
          "output_type": "stream",
          "text": [
            "\n",
            "Accuracy: 0.985\n",
            "\n",
            "Classification Report for Decision Tree Classifier:\n",
            "               precision    recall  f1-score   support\n",
            "\n",
            "           0       0.99      0.99      0.99      2299\n",
            "           1       0.96      0.97      0.97       654\n",
            "\n",
            "    accuracy                           0.99      2953\n",
            "   macro avg       0.98      0.98      0.98      2953\n",
            "weighted avg       0.99      0.99      0.99      2953\n",
            "\n"
          ]
        },
        {
          "data": {
            "image/png": "[encoded data removed]",
            "text/plain": [
              "<Figure size 600x400 with 2 Axes>"
            ]
          },
          "metadata": {},
          "output_type": "display_data"
        },
        {
          "name": "stdout",
          "output_type": "stream",
          "text": [
            "True Positives (TP): 635\n",
            "False Positives (FP): 24\n",
            "True Negatives (TN): 2275\n",
            "False Negatives (FN): 19\n"
          ]
        }
      ],
      "source": [
        "# Initialize and train the model\n",
        "dt3 = DecisionTreeClassifier(random_state=42)\n",
        "dt3.fit(X_train_3, y_train_3)\n",
        "\n",
        "# Make predictions on the test set\n",
        "label_dt_3 = dt3.predict(X_test_3)\n",
        "\n",
        "# Calculate Accuracy and Classification Report\n",
        "accuracy_dt_3 = accuracy_score(y_test_3, label_dt_3)\n",
        "report_dt_3 = classification_report(y_test_3, label_dt_3)\n",
        "print(f\"\\nAccuracy: {accuracy_dt_3:.3f}\")\n",
        "print(\"\\nClassification Report for Decision Tree Classifier:\\n\", report_dt_3)\n",
        "\n",
        "conf_matrix = confusion_matrix(y_test_3, label_dt_3)\n",
        "plt.figure(figsize=(6,4))\n",
        "sns.heatmap(conf_matrix, annot=True, fmt='d', cmap='Blues', xticklabels=['False', 'True'], yticklabels=['False', 'True'])\n",
        "plt.xlabel('Predicted')\n",
        "plt.ylabel('Actual')\n",
        "plt.title('Confusion Matrix for Decision Tree Classifier')\n",
        "plt.show()\n",
        "\n",
        "tn, fp, fn, tp = confusion_matrix(y_test_3, label_dt_3).ravel()\n",
        "\n",
        "# Print TP, FP, TN, FN\n",
        "print(f\"True Positives (TP): {tp}\")\n",
        "print(f\"False Positives (FP): {fp}\")\n",
        "print(f\"True Negatives (TN): {tn}\")\n",
        "print(f\"False Negatives (FN): {fn}\")"
      ]
    },
    {
      "cell_type": "code",
      "execution_count": 79,
      "id": "kEJe4tIkp4gi",
      "metadata": {
        "id": "kEJe4tIkp4gi"
      },
      "outputs": [],
      "source": []
    }
  ],
  "metadata": {
    "colab": {
      "provenance": []
    },
    "kernelspec": {
      "display_name": "Python 3 (ipykernel)",
      "language": "python",
      "name": "python3"
    },
    "language_info": {
      "codemirror_mode": {
        "name": "ipython",
        "version": 3
      },
      "file_extension": ".py",
      "mimetype": "text/x-python",
      "name": "python",
      "nbconvert_exporter": "python",
      "pygments_lexer": "ipython3",
      "version": "3.10.13"
    }
  },
  "nbformat": 4,
  "nbformat_minor": 5
}
